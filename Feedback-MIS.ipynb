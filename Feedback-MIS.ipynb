{
 "cells": [
  {
   "cell_type": "code",
   "execution_count": 8,
   "id": "278ea3e2-3ca6-4351-a713-ffc87777aadf",
   "metadata": {},
   "outputs": [
    {
     "name": "stdin",
     "output_type": "stream",
     "text": [
      "Enter name for customer 1:  Eva\n",
      "Enter rating for customer 1 (1-5):  1\n",
      "Enter feedback for customer 1:  Poor\n",
      "Enter name for customer 2:  Minnie\n",
      "Enter rating for customer 2 (1-5):  5\n",
      "Enter feedback for customer 2:  Good\n",
      "Enter name for customer 3:  Tommy\n",
      "Enter rating for customer 3 (1-5):  4\n",
      "Enter feedback for customer 3:  Good\n",
      "Enter name for customer 4:  Jerry\n",
      "Enter rating for customer 4 (1-5):  1\n",
      "Enter feedback for customer 4:  Bad\n",
      "Enter name for customer 5:  Donald\n",
      "Enter rating for customer 5 (1-5):  3\n",
      "Enter feedback for customer 5:  Fair\n"
     ]
    },
    {
     "name": "stdout",
     "output_type": "stream",
     "text": [
      "Feedback has been saved to customer_feedback.csv\n",
      "  Customer Name  Rating Feedback\n",
      "0           Eva       1     Poor\n",
      "1        Minnie       5     Good\n",
      "2         Tommy       4     Good\n",
      "3         Jerry       1      Bad\n",
      "4        Donald       3     Fair\n",
      "<class 'pandas.core.frame.DataFrame'>\n",
      "RangeIndex: 5 entries, 0 to 4\n",
      "Data columns (total 3 columns):\n",
      " #   Column         Non-Null Count  Dtype \n",
      "---  ------         --------------  ----- \n",
      " 0   Customer Name  5 non-null      object\n",
      " 1   Rating         5 non-null      int64 \n",
      " 2   Feedback       5 non-null      object\n",
      "dtypes: int64(1), object(2)\n",
      "memory usage: 252.0+ bytes\n",
      "None\n",
      "Feedback Categories: ['Negative', 'Positive', 'Positive', 'Negative', 'Negative']\n"
     ]
    }
   ],
   "source": [
    "import pandas as pd  # Import pandas\n",
    "\n",
    "# Initialize empty lists to store customer information\n",
    "customer_names = []\n",
    "customer_ratings = []\n",
    "customer_feedbacks = []\n",
    "\n",
    "# Collect feedback from five customers including name, rating, and feedback\n",
    "for i in range(1, 6):\n",
    "    name = input(f\"Enter name for customer {i}: \")\n",
    "    rating = input(f\"Enter rating for customer {i} (1-5): \")\n",
    "    feedback = input(f\"Enter feedback for customer {i}: \")\n",
    "    \n",
    "    customer_names.append(name)\n",
    "    customer_ratings.append(rating)\n",
    "    customer_feedbacks.append(feedback)\n",
    "\n",
    "# Store the feedback in a dictionary\n",
    "feedback_data = {\n",
    "    'Customer Name': customer_names,\n",
    "    'Rating': customer_ratings,\n",
    "    'Feedback': customer_feedbacks\n",
    "}\n",
    "\n",
    "# Convert the dictionary to a Pandas DataFrame\n",
    "df = pd.DataFrame(feedback_data)\n",
    "\n",
    "# Save the DataFrame to a CSV file\n",
    "df.to_csv('customer_feedback.csv', index=False)\n",
    "\n",
    "# Display a message that data has been saved\n",
    "print(\"Feedback has been saved to customer_feedback.csv\")\n",
    "\n",
    "# Read data from the CSV file using Pandas\n",
    "df = pd.read_csv('customer_feedback.csv')\n",
    "\n",
    "# Display the first few rows of data\n",
    "print(df.head())\n",
    "print(df.info())\n",
    "\n",
    "# Categorize feedback based on the presence of the word 'good'\n",
    "feedback_categories = ['Positive' if 'good' in feedback.lower() else 'Negative' for feedback in customer_feedbacks]\n",
    "\n",
    "# Display the categorized feedback\n",
    "print(\"Feedback Categories:\", feedback_categories)\n"
   ]
  },
  {
   "cell_type": "code",
   "execution_count": null,
   "id": "7d8b574a-5daf-498b-be40-999c43cd2246",
   "metadata": {},
   "outputs": [],
   "source": []
  }
 ],
 "metadata": {
  "kernelspec": {
   "display_name": "Python 3 (ipykernel)",
   "language": "python",
   "name": "python3"
  },
  "language_info": {
   "codemirror_mode": {
    "name": "ipython",
    "version": 3
   },
   "file_extension": ".py",
   "mimetype": "text/x-python",
   "name": "python",
   "nbconvert_exporter": "python",
   "pygments_lexer": "ipython3",
   "version": "3.11.2"
  }
 },
 "nbformat": 4,
 "nbformat_minor": 5
}
